{
 "cells": [
  {
   "cell_type": "code",
   "execution_count": 1,
   "metadata": {
    "collapsed": false
   },
   "outputs": [
    {
     "name": "stderr",
     "output_type": "stream",
     "text": [
      "Using Theano backend.\n"
     ]
    }
   ],
   "source": [
    "'''\n",
    "Code adapted from https://github.com/fchollet/keras/blob/master/examples/mnist_cnn.py\n",
    "'''\n",
    "from keras.datasets import mnist\n",
    "from keras.utils import np_utils\n",
    "from keras import backend as K\n",
    "\n",
    "from mnist import MnistClassifier\n",
    "import numpy as np\n",
    "\n",
    "\n",
    "batch_size = 128\n",
    "num_classes = 10\n",
    "num_epoch = 1\n",
    "\n",
    "# input image dimensions\n",
    "img_rows, img_cols = 28, 28\n",
    "# number of convolutional filters to use\n",
    "num_filters = 32\n",
    "# size of pooling area for max pooling\n",
    "pool_size = (2, 2)\n",
    "# convolution kernel size\n",
    "kernel_size = (3, 3)\n",
    "\n",
    "# the data, shuffled and split between train and test sets\n",
    "(X_train, y_train), (X_test, y_test) = mnist.load_data()\n",
    "\n",
    "\n"
   ]
  },
  {
   "cell_type": "code",
   "execution_count": 2,
   "metadata": {
    "collapsed": true
   },
   "outputs": [],
   "source": [
    "X_train = X_train.astype('float32')\n",
    "X_test = X_test.astype('float32')\n",
    "X_train /= 255\n",
    "X_test /= 255"
   ]
  },
  {
   "cell_type": "code",
   "execution_count": 3,
   "metadata": {
    "collapsed": false
   },
   "outputs": [
    {
     "data": {
      "image/png": "[encoded data removed]",
      "text/plain": [
       "<matplotlib.figure.Figure at 0x114e997d0>"
      ]
     },
     "metadata": {},
     "output_type": "display_data"
    },
    {
     "data": {
      "image/png": "[encoded data removed]",
      "text/plain": [
       "<matplotlib.figure.Figure at 0x108b522d0>"
      ]
     },
     "metadata": {},
     "output_type": "display_data"
    },
    {
     "name": "stdout",
     "output_type": "stream",
     "text": [
      "0\n"
     ]
    }
   ],
   "source": [
    "from skimage.util import random_noise\n",
    "from matplotlib import pyplot as plt\n",
    "\n",
    "X_train_noised = np.zeros_like(X_train)\n",
    "for i in range(len(X_train)):\n",
    "    X_train_noised[i] = random_noise(X_train[i], mode='gaussian', var=0.5, seed=None, clip=True)\n",
    "    \n",
    "plt.imshow(X_train[0])\n",
    "plt.show()\n",
    "plt.imshow(X_train_noised[0])\n",
    "plt.show()\n",
    "print min(y_test)"
   ]
  },
  {
   "cell_type": "code",
   "execution_count": 4,
   "metadata": {
    "collapsed": true
   },
   "outputs": [],
   "source": [
    "#X_train = X_train_noised"
   ]
  },
  {
   "cell_type": "code",
   "execution_count": 5,
   "metadata": {
    "collapsed": false
   },
   "outputs": [
    {
     "name": "stdout",
     "output_type": "stream",
     "text": [
      "('X_train shape:', (54000, 1, 28, 28))\n",
      "('Y_train shape:', (54000, 10))\n",
      "('Training samples: ', 54000)\n",
      "('Validation samples: ', 6000)\n",
      "('Test samples: ', 10000)\n"
     ]
    }
   ],
   "source": [
    "#reshape for theano\n",
    "if K.image_dim_ordering() == 'th':\n",
    "    X_train = X_train.reshape(X_train.shape[0], 1, img_rows, img_cols)\n",
    "    X_test = X_test.reshape(X_test.shape[0], 1, img_rows, img_cols)\n",
    "    input_shape = (1, img_rows, img_cols)\n",
    "else: #reshape for tensorflow\n",
    "    X_train = X_train.reshape(X_train.shape[0], img_rows, img_cols, 1)\n",
    "    X_test = X_test.reshape(X_test.shape[0], img_rows, img_cols, 1)\n",
    "    input_shape = (img_rows, img_cols, 1)\n",
    "\n",
    "\n",
    "\n",
    "#10% for validation\n",
    "nb_val = int(0.1 * len(y_train))\n",
    "X_val, y_val = X_train[-nb_val:, :], y_train[-nb_val:]\n",
    "X_train, y_train = X_train[0:-nb_val, :], y_train[0:-nb_val]\n",
    "\n",
    "\n",
    "# convert class vectors to binary class matrices\n",
    "Y_train = np_utils.to_categorical(y_train, num_classes)\n",
    "Y_val = np_utils.to_categorical(y_val, num_classes)\n",
    "Y_test = np_utils.to_categorical(y_test, num_classes)\n",
    "\n",
    "\n",
    "print('X_train shape:', X_train.shape)\n",
    "print('Y_train shape:', Y_train.shape)\n",
    "print('Training samples: ', X_train.shape[0])\n",
    "print('Validation samples: ', X_val.shape[0])\n",
    "print('Test samples: ', X_test.shape[0])"
   ]
  },
  {
   "cell_type": "code",
   "execution_count": 6,
   "metadata": {
    "collapsed": false
   },
   "outputs": [
    {
     "name": "stdout",
     "output_type": "stream",
     "text": [
      "Train on 54000 samples, validate on 6000 samples\n",
      "Epoch 1/1\n",
      "54000/54000 [==============================] - 99s - loss: 0.3273 - acc: 0.8984 - val_loss: 0.0526 - val_acc: 0.9860\n"
     ]
    }
   ],
   "source": [
    "model = MnistClassifier(num_classes, input_shape)\n",
    "\n",
    "model.fit(X_train, Y_train, X_val, Y_val, batch_size, num_epoch)"
   ]
  },
  {
   "cell_type": "code",
   "execution_count": 7,
   "metadata": {
    "collapsed": false
   },
   "outputs": [
    {
     "name": "stdout",
     "output_type": "stream",
     "text": [
      "10000/10000 [==============================] - 15s    \n",
      "('Test score:', 0.050895086298429579)\n",
      "('Test accuracy:', 0.98370000000000002)\n"
     ]
    }
   ],
   "source": [
    "score = model.eval(X_test, Y_test, 1)\n",
    "print('Test score:', score[0])\n",
    "print('Test accuracy:', score[1])"
   ]
  },
  {
   "cell_type": "code",
   "execution_count": 8,
   "metadata": {
    "collapsed": false
   },
   "outputs": [
    {
     "name": "stdout",
     "output_type": "stream",
     "text": [
      "[ 99.75  99.76  99.7   99.61  99.8   99.7   99.8   99.52  99.61  99.49]\n"
     ]
    }
   ],
   "source": [
    "pred_prob = model.eval_by_class(X_test)\n",
    "preds = np.zeros_like(pred_prob)\n",
    "preds[np.arange(len(pred_prob)), pred_prob.argmax(1)] = 1\n",
    "print np.mean((preds == Y_test), axis=0)*100"
   ]
  },
  {
   "cell_type": "code",
   "execution_count": null,
   "metadata": {
    "collapsed": false
   },
   "outputs": [],
   "source": [
    "\n"
   ]
  },
  {
   "cell_type": "code",
   "execution_count": null,
   "metadata": {
    "collapsed": true
   },
   "outputs": [],
   "source": []
  }
 ],
 "metadata": {
  "anaconda-cloud": {},
  "kernelspec": {
   "display_name": "Python [arterys]",
   "language": "python",
   "name": "Python [arterys]"
  },
  "language_info": {
   "codemirror_mode": {
    "name": "ipython",
    "version": 2
   },
   "file_extension": ".py",
   "mimetype": "text/x-python",
   "name": "python",
   "nbconvert_exporter": "python",
   "pygments_lexer": "ipython2",
   "version": "2.7.13"
  }
 },
 "nbformat": 4,
 "nbformat_minor": 0
}
